{
 "cells": [
  {
   "cell_type": "code",
   "execution_count": 26,
   "metadata": {
    "scrolled": true
   },
   "outputs": [
    {
     "data": {
      "text/html": [
       "<div>\n",
       "<style scoped>\n",
       "    .dataframe tbody tr th:only-of-type {\n",
       "        vertical-align: middle;\n",
       "    }\n",
       "\n",
       "    .dataframe tbody tr th {\n",
       "        vertical-align: top;\n",
       "    }\n",
       "\n",
       "    .dataframe thead th {\n",
       "        text-align: right;\n",
       "    }\n",
       "</style>\n",
       "<table border=\"1\" class=\"dataframe\">\n",
       "  <thead>\n",
       "    <tr style=\"text-align: right;\">\n",
       "      <th></th>\n",
       "      <th>Unnamed: 0</th>\n",
       "      <th>Date</th>\n",
       "      <th>Temperature</th>\n",
       "      <th>DewPoint</th>\n",
       "      <th>Humidity</th>\n",
       "      <th>Sea Level PressureIn</th>\n",
       "      <th>VisibilityMiles</th>\n",
       "      <th>Wind SpeedMPH</th>\n",
       "      <th>PrecipitationIn</th>\n",
       "      <th>CloudCover</th>\n",
       "      <th>Events</th>\n",
       "      <th>WindDirDegrees</th>\n",
       "      <th>City</th>\n",
       "      <th>Season</th>\n",
       "    </tr>\n",
       "  </thead>\n",
       "  <tbody>\n",
       "    <tr>\n",
       "      <td>0</td>\n",
       "      <td>1</td>\n",
       "      <td>1/1/2015</td>\n",
       "      <td>34</td>\n",
       "      <td>12</td>\n",
       "      <td>40</td>\n",
       "      <td>30.10</td>\n",
       "      <td>10</td>\n",
       "      <td>17</td>\n",
       "      <td>0.00</td>\n",
       "      <td>1</td>\n",
       "      <td>NaN</td>\n",
       "      <td>246</td>\n",
       "      <td>New York City (USA)</td>\n",
       "      <td>Winter</td>\n",
       "    </tr>\n",
       "    <tr>\n",
       "      <td>1</td>\n",
       "      <td>2</td>\n",
       "      <td>1/2/2015</td>\n",
       "      <td>40</td>\n",
       "      <td>18</td>\n",
       "      <td>45</td>\n",
       "      <td>30.24</td>\n",
       "      <td>10</td>\n",
       "      <td>14</td>\n",
       "      <td>0.00</td>\n",
       "      <td>4</td>\n",
       "      <td>NaN</td>\n",
       "      <td>271</td>\n",
       "      <td>New York City (USA)</td>\n",
       "      <td>Winter</td>\n",
       "    </tr>\n",
       "    <tr>\n",
       "      <td>2</td>\n",
       "      <td>3</td>\n",
       "      <td>1/3/2015</td>\n",
       "      <td>39</td>\n",
       "      <td>30</td>\n",
       "      <td>71</td>\n",
       "      <td>30.45</td>\n",
       "      <td>7</td>\n",
       "      <td>9</td>\n",
       "      <td>0.94</td>\n",
       "      <td>7</td>\n",
       "      <td>Rain</td>\n",
       "      <td>69</td>\n",
       "      <td>New York City (USA)</td>\n",
       "      <td>Winter</td>\n",
       "    </tr>\n",
       "    <tr>\n",
       "      <td>3</td>\n",
       "      <td>4</td>\n",
       "      <td>1/4/2015</td>\n",
       "      <td>49</td>\n",
       "      <td>46</td>\n",
       "      <td>87</td>\n",
       "      <td>29.83</td>\n",
       "      <td>6</td>\n",
       "      <td>10</td>\n",
       "      <td>0.47</td>\n",
       "      <td>8</td>\n",
       "      <td>Fog-Rain</td>\n",
       "      <td>227</td>\n",
       "      <td>New York City (USA)</td>\n",
       "      <td>Winter</td>\n",
       "    </tr>\n",
       "    <tr>\n",
       "      <td>4</td>\n",
       "      <td>5</td>\n",
       "      <td>1/5/2015</td>\n",
       "      <td>37</td>\n",
       "      <td>12</td>\n",
       "      <td>42</td>\n",
       "      <td>30.13</td>\n",
       "      <td>10</td>\n",
       "      <td>20</td>\n",
       "      <td>0.00</td>\n",
       "      <td>3</td>\n",
       "      <td>NaN</td>\n",
       "      <td>290</td>\n",
       "      <td>New York City (USA)</td>\n",
       "      <td>Winter</td>\n",
       "    </tr>\n",
       "    <tr>\n",
       "      <td>...</td>\n",
       "      <td>...</td>\n",
       "      <td>...</td>\n",
       "      <td>...</td>\n",
       "      <td>...</td>\n",
       "      <td>...</td>\n",
       "      <td>...</td>\n",
       "      <td>...</td>\n",
       "      <td>...</td>\n",
       "      <td>...</td>\n",
       "      <td>...</td>\n",
       "      <td>...</td>\n",
       "      <td>...</td>\n",
       "      <td>...</td>\n",
       "      <td>...</td>\n",
       "    </tr>\n",
       "    <tr>\n",
       "      <td>360</td>\n",
       "      <td>361</td>\n",
       "      <td>12/27/2015</td>\n",
       "      <td>56</td>\n",
       "      <td>51</td>\n",
       "      <td>82</td>\n",
       "      <td>29.97</td>\n",
       "      <td>6</td>\n",
       "      <td>12</td>\n",
       "      <td>0.08</td>\n",
       "      <td>8</td>\n",
       "      <td>Fog-Rain</td>\n",
       "      <td>283</td>\n",
       "      <td>New York City (USA)</td>\n",
       "      <td>Winter</td>\n",
       "    </tr>\n",
       "    <tr>\n",
       "      <td>361</td>\n",
       "      <td>362</td>\n",
       "      <td>12/28/2015</td>\n",
       "      <td>42</td>\n",
       "      <td>25</td>\n",
       "      <td>57</td>\n",
       "      <td>30.41</td>\n",
       "      <td>10</td>\n",
       "      <td>14</td>\n",
       "      <td>0.05</td>\n",
       "      <td>7</td>\n",
       "      <td>Rain-Snow</td>\n",
       "      <td>39</td>\n",
       "      <td>New York City (USA)</td>\n",
       "      <td>Winter</td>\n",
       "    </tr>\n",
       "    <tr>\n",
       "      <td>362</td>\n",
       "      <td>363</td>\n",
       "      <td>12/29/2015</td>\n",
       "      <td>42</td>\n",
       "      <td>40</td>\n",
       "      <td>88</td>\n",
       "      <td>30.12</td>\n",
       "      <td>6</td>\n",
       "      <td>12</td>\n",
       "      <td>0.66</td>\n",
       "      <td>8</td>\n",
       "      <td>Rain-Snow</td>\n",
       "      <td>28</td>\n",
       "      <td>New York City (USA)</td>\n",
       "      <td>Winter</td>\n",
       "    </tr>\n",
       "    <tr>\n",
       "      <td>363</td>\n",
       "      <td>364</td>\n",
       "      <td>12/30/2015</td>\n",
       "      <td>46</td>\n",
       "      <td>41</td>\n",
       "      <td>85</td>\n",
       "      <td>30.23</td>\n",
       "      <td>9</td>\n",
       "      <td>7</td>\n",
       "      <td>0.37</td>\n",
       "      <td>8</td>\n",
       "      <td>Rain</td>\n",
       "      <td>65</td>\n",
       "      <td>New York City (USA)</td>\n",
       "      <td>Winter</td>\n",
       "    </tr>\n",
       "    <tr>\n",
       "      <td>364</td>\n",
       "      <td>365</td>\n",
       "      <td>12/31/2015</td>\n",
       "      <td>48</td>\n",
       "      <td>38</td>\n",
       "      <td>71</td>\n",
       "      <td>30.06</td>\n",
       "      <td>10</td>\n",
       "      <td>12</td>\n",
       "      <td>0.06</td>\n",
       "      <td>7</td>\n",
       "      <td>Rain</td>\n",
       "      <td>317</td>\n",
       "      <td>New York City (USA)</td>\n",
       "      <td>Winter</td>\n",
       "    </tr>\n",
       "  </tbody>\n",
       "</table>\n",
       "<p>365 rows × 14 columns</p>\n",
       "</div>"
      ],
      "text/plain": [
       "     Unnamed: 0        Date  Temperature  DewPoint  Humidity  \\\n",
       "0             1    1/1/2015           34        12        40   \n",
       "1             2    1/2/2015           40        18        45   \n",
       "2             3    1/3/2015           39        30        71   \n",
       "3             4    1/4/2015           49        46        87   \n",
       "4             5    1/5/2015           37        12        42   \n",
       "..          ...         ...          ...       ...       ...   \n",
       "360         361  12/27/2015           56        51        82   \n",
       "361         362  12/28/2015           42        25        57   \n",
       "362         363  12/29/2015           42        40        88   \n",
       "363         364  12/30/2015           46        41        85   \n",
       "364         365  12/31/2015           48        38        71   \n",
       "\n",
       "     Sea Level PressureIn  VisibilityMiles  Wind SpeedMPH  PrecipitationIn  \\\n",
       "0                   30.10               10             17             0.00   \n",
       "1                   30.24               10             14             0.00   \n",
       "2                   30.45                7              9             0.94   \n",
       "3                   29.83                6             10             0.47   \n",
       "4                   30.13               10             20             0.00   \n",
       "..                    ...              ...            ...              ...   \n",
       "360                 29.97                6             12             0.08   \n",
       "361                 30.41               10             14             0.05   \n",
       "362                 30.12                6             12             0.66   \n",
       "363                 30.23                9              7             0.37   \n",
       "364                 30.06               10             12             0.06   \n",
       "\n",
       "     CloudCover     Events  WindDirDegrees                 City  Season  \n",
       "0             1        NaN             246  New York City (USA)  Winter  \n",
       "1             4        NaN             271  New York City (USA)  Winter  \n",
       "2             7       Rain              69  New York City (USA)  Winter  \n",
       "3             8   Fog-Rain             227  New York City (USA)  Winter  \n",
       "4             3        NaN             290  New York City (USA)  Winter  \n",
       "..          ...        ...             ...                  ...     ...  \n",
       "360           8   Fog-Rain             283  New York City (USA)  Winter  \n",
       "361           7  Rain-Snow              39  New York City (USA)  Winter  \n",
       "362           8  Rain-Snow              28  New York City (USA)  Winter  \n",
       "363           8       Rain              65  New York City (USA)  Winter  \n",
       "364           7       Rain             317  New York City (USA)  Winter  \n",
       "\n",
       "[365 rows x 14 columns]"
      ]
     },
     "execution_count": 26,
     "metadata": {},
     "output_type": "execute_result"
    }
   ],
   "source": [
    "import pandas as pd\n",
    "df = pd.read_csv('C:\\\\Users\\\\ppanchad\\\\PycharmProjects\\\\PANDAS\\\\nyc_weather.csv')\n",
    "df"
   ]
  },
  {
   "cell_type": "code",
   "execution_count": 14,
   "metadata": {},
   "outputs": [
    {
     "name": "stdout",
     "output_type": "stream",
     "text": [
      "The Max Temperature of the Year 2015:  87\n"
     ]
    }
   ],
   "source": [
    "# To check the max temperature of the year\n",
    "print('The Max Temperature of the Year 2015: ', df['Temperature'].max())"
   ]
  },
  {
   "cell_type": "code",
   "execution_count": 17,
   "metadata": {},
   "outputs": [
    {
     "name": "stdout",
     "output_type": "stream",
     "text": [
      "Rain date of 2015 Year: \n",
      " 2        1/3/2015\n",
      "11      1/12/2015\n",
      "39       2/9/2015\n",
      "62       3/4/2015\n",
      "67       3/9/2015\n",
      "          ...    \n",
      "351    12/18/2015\n",
      "355    12/22/2015\n",
      "359    12/26/2015\n",
      "363    12/30/2015\n",
      "364    12/31/2015\n",
      "Name: Date, Length: 73, dtype: object\n"
     ]
    }
   ],
   "source": [
    "# To check dates when it rain in whole Year\n",
    "print('Rain date of 2015 Year: \\n', df['Date'][df['Events'] == 'Rain'])"
   ]
  },
  {
   "cell_type": "code",
   "execution_count": 20,
   "metadata": {},
   "outputs": [
    {
     "name": "stdout",
     "output_type": "stream",
     "text": [
      "Average Windspeed:  10.92054794520548\n"
     ]
    }
   ],
   "source": [
    "# To check the Average Windspeed\n",
    "print('Average Windspeed: ', df['Wind SpeedMPH'].mean())"
   ]
  },
  {
   "cell_type": "code",
   "execution_count": 27,
   "metadata": {},
   "outputs": [
    {
     "name": "stdout",
     "output_type": "stream",
     "text": [
      "Average Precipitation before Cleaning Data:  0.20358024691358031\n",
      "Average Precipitation after Cleaning Data:  0.18071232876712334\n"
     ]
    }
   ],
   "source": [
    "# DATA MUNGING or DATA WRANGLING: To cleaning the messy data or polishing the data i.e. some of the data fields contains blank cells\n",
    "\n",
    "# Withouting using Data Munging i.e. taking the raw data without cleaning the data\n",
    "print('Average Precipitation before Cleaning Data: ', df['PrecipitationIn'].mean())\n",
    "\n",
    "# After Cleaning the data i.e. After Data Munging\n",
    "\n",
    "# Below is to cleaning the data \n",
    "df.fillna(0, inplace = True)\n",
    "print('Average Precipitation after Cleaning Data: ', df['PrecipitationIn'].mean())"
   ]
  },
  {
   "cell_type": "code",
   "execution_count": 33,
   "metadata": {},
   "outputs": [
    {
     "data": {
      "text/html": [
       "<div>\n",
       "<style scoped>\n",
       "    .dataframe tbody tr th:only-of-type {\n",
       "        vertical-align: middle;\n",
       "    }\n",
       "\n",
       "    .dataframe tbody tr th {\n",
       "        vertical-align: top;\n",
       "    }\n",
       "\n",
       "    .dataframe thead th {\n",
       "        text-align: right;\n",
       "    }\n",
       "</style>\n",
       "<table border=\"1\" class=\"dataframe\">\n",
       "  <thead>\n",
       "    <tr style=\"text-align: right;\">\n",
       "      <th></th>\n",
       "      <th>Date</th>\n",
       "      <th>Temperature</th>\n",
       "      <th>WindSpeed</th>\n",
       "      <th>Event</th>\n",
       "    </tr>\n",
       "  </thead>\n",
       "  <tbody>\n",
       "    <tr>\n",
       "      <td>0</td>\n",
       "      <td>1/1/2020</td>\n",
       "      <td>33</td>\n",
       "      <td>6</td>\n",
       "      <td>Sunny</td>\n",
       "    </tr>\n",
       "    <tr>\n",
       "      <td>1</td>\n",
       "      <td>1/2/2020</td>\n",
       "      <td>25</td>\n",
       "      <td>5</td>\n",
       "      <td>Rain</td>\n",
       "    </tr>\n",
       "    <tr>\n",
       "      <td>2</td>\n",
       "      <td>1/3/2020</td>\n",
       "      <td>35</td>\n",
       "      <td>7</td>\n",
       "      <td>Rain</td>\n",
       "    </tr>\n",
       "    <tr>\n",
       "      <td>3</td>\n",
       "      <td>1/4/2020</td>\n",
       "      <td>45</td>\n",
       "      <td>2</td>\n",
       "      <td>Sunny</td>\n",
       "    </tr>\n",
       "    <tr>\n",
       "      <td>4</td>\n",
       "      <td>1/5/2020</td>\n",
       "      <td>28</td>\n",
       "      <td>7</td>\n",
       "      <td>Snow</td>\n",
       "    </tr>\n",
       "    <tr>\n",
       "      <td>5</td>\n",
       "      <td>1/6/2020</td>\n",
       "      <td>24</td>\n",
       "      <td>8</td>\n",
       "      <td>Snow</td>\n",
       "    </tr>\n",
       "  </tbody>\n",
       "</table>\n",
       "</div>"
      ],
      "text/plain": [
       "       Date  Temperature  WindSpeed  Event\n",
       "0  1/1/2020           33          6  Sunny\n",
       "1  1/2/2020           25          5   Rain\n",
       "2  1/3/2020           35          7   Rain\n",
       "3  1/4/2020           45          2  Sunny\n",
       "4  1/5/2020           28          7   Snow\n",
       "5  1/6/2020           24          8   Snow"
      ]
     },
     "execution_count": 33,
     "metadata": {},
     "output_type": "execute_result"
    }
   ],
   "source": [
    "#DataFrame: It is the main frame of PANDAS. It used to represent the Tabular data i.e. in rows & column wise. \n",
    "\n",
    "# Create Dataframe from python dict\n",
    "import pandas as pd\n",
    "\n",
    "weather_report = {\n",
    "    'Date' : ['1/1/2020', '1/2/2020', '1/3/2020', '1/4/2020', '1/5/2020', '1/6/2020'],\n",
    "    'Temperature' : [33, 25, 35, 45, 28, 24],\n",
    "    'WindSpeed' : [6, 5, 7, 2, 7, 8],\n",
    "    'Event' : ['Sunny', 'Rain', 'Rain', 'Sunny', 'Snow', 'Snow']\n",
    "}\n",
    "\n",
    "df = pd.DataFrame(weather_report)\n",
    "df"
   ]
  },
  {
   "cell_type": "code",
   "execution_count": 41,
   "metadata": {},
   "outputs": [
    {
     "name": "stdout",
     "output_type": "stream",
     "text": [
      "Without storing values to the variables: (6, 4)\n",
      "No. of Rows:  6\n",
      "No. of Columns:  4\n"
     ]
    }
   ],
   "source": [
    "# Check for shape of the DataFrame\n",
    "# example: (7,4) ---> 7 is the No. of rows & 4 is the no.of columns\n",
    "\n",
    "print('Without storing values to the variables:', df.shape)\n",
    "\n",
    "# We can store the values in the variables\n",
    "rows, columns = df.shape\n",
    "print('No. of Rows: ', rows)\n",
    "print('No. of Columns: ', columns)"
   ]
  },
  {
   "cell_type": "code",
   "execution_count": 46,
   "metadata": {},
   "outputs": [
    {
     "name": "stdout",
     "output_type": "stream",
     "text": [
      "Display only First few rows of the Table:\n",
      "         Date  Temperature  WindSpeed  Event\n",
      "0  1/1/2020           33          6  Sunny\n",
      "1  1/2/2020           25          5   Rain\n",
      "2  1/3/2020           35          7   Rain\n",
      "3  1/4/2020           45          2  Sunny\n",
      "4  1/5/2020           28          7   Snow\n",
      "\n",
      "Display only First 2 rows of the Table: \n",
      "        Date  Temperature  WindSpeed  Event\n",
      "0  1/1/2020           33          6  Sunny\n",
      "1  1/2/2020           25          5   Rain\n"
     ]
    }
   ],
   "source": [
    "# Display only fews rows of the DataFrame\n",
    "\n",
    "print('Display only First few rows of the Table:\\n ', df.head())\n",
    "\n",
    "# Display only 2 rows of the DataFrame\n",
    "\n",
    "print('\\nDisplay only First 2 rows of the Table: \\n', df.head(2))"
   ]
  },
  {
   "cell_type": "code",
   "execution_count": 59,
   "metadata": {},
   "outputs": [
    {
     "name": "stdout",
     "output_type": "stream",
     "text": [
      "Display only last 5 rows:\n",
      "        Date  Temperature  WindSpeed  Event\n",
      "1  1/2/2020           25          5   Rain\n",
      "2  1/3/2020           35          7   Rain\n",
      "3  1/4/2020           45          2  Sunny\n",
      "4  1/5/2020           28          7   Snow\n",
      "5  1/6/2020           24          8   Snow\n",
      "\n",
      "Display last 3 rows:\n",
      "        Date  Temperature  WindSpeed  Event\n",
      "3  1/4/2020           45          2  Sunny\n",
      "4  1/5/2020           28          7   Snow\n",
      "5  1/6/2020           24          8   Snow\n",
      "\n",
      "Display last row:\n",
      "        Date  Temperature  WindSpeed Event\n",
      "5  1/6/2020           24          8  Snow\n"
     ]
    }
   ],
   "source": [
    "# Display only last 5 rows \n",
    "\n",
    "print('Display only last 5 rows:\\n', df.tail())\n",
    "\n",
    "# Display only last 3 rows \n",
    "\n",
    "print('\\nDisplay last 3 rows:\\n', df.tail(3))\n",
    "\n",
    "#Disply the last row\n",
    "\n",
    "print('\\nDisplay last row:\\n', df.tail(1))\n"
   ]
  },
  {
   "cell_type": "code",
   "execution_count": 64,
   "metadata": {},
   "outputs": [
    {
     "data": {
      "text/html": [
       "<div>\n",
       "<style scoped>\n",
       "    .dataframe tbody tr th:only-of-type {\n",
       "        vertical-align: middle;\n",
       "    }\n",
       "\n",
       "    .dataframe tbody tr th {\n",
       "        vertical-align: top;\n",
       "    }\n",
       "\n",
       "    .dataframe thead th {\n",
       "        text-align: right;\n",
       "    }\n",
       "</style>\n",
       "<table border=\"1\" class=\"dataframe\">\n",
       "  <thead>\n",
       "    <tr style=\"text-align: right;\">\n",
       "      <th></th>\n",
       "      <th>Date</th>\n",
       "      <th>Temperature</th>\n",
       "      <th>WindSpeed</th>\n",
       "      <th>Event</th>\n",
       "    </tr>\n",
       "  </thead>\n",
       "  <tbody>\n",
       "    <tr>\n",
       "      <td>2</td>\n",
       "      <td>1/3/2020</td>\n",
       "      <td>35</td>\n",
       "      <td>7</td>\n",
       "      <td>Rain</td>\n",
       "    </tr>\n",
       "    <tr>\n",
       "      <td>3</td>\n",
       "      <td>1/4/2020</td>\n",
       "      <td>45</td>\n",
       "      <td>2</td>\n",
       "      <td>Sunny</td>\n",
       "    </tr>\n",
       "    <tr>\n",
       "      <td>4</td>\n",
       "      <td>1/5/2020</td>\n",
       "      <td>28</td>\n",
       "      <td>7</td>\n",
       "      <td>Snow</td>\n",
       "    </tr>\n",
       "  </tbody>\n",
       "</table>\n",
       "</div>"
      ],
      "text/plain": [
       "       Date  Temperature  WindSpeed  Event\n",
       "2  1/3/2020           35          7   Rain\n",
       "3  1/4/2020           45          2  Sunny\n",
       "4  1/5/2020           28          7   Snow"
      ]
     },
     "execution_count": 64,
     "metadata": {},
     "output_type": "execute_result"
    }
   ],
   "source": [
    "# Display only few rows in the table \n",
    "\n",
    "# We can use slicing operation same as python\n",
    "df[2:5]"
   ]
  },
  {
   "cell_type": "code",
   "execution_count": 67,
   "metadata": {},
   "outputs": [
    {
     "data": {
      "text/plain": [
       "Index(['Date', 'Temperature', 'WindSpeed', 'Event'], dtype='object')"
      ]
     },
     "execution_count": 67,
     "metadata": {},
     "output_type": "execute_result"
    }
   ],
   "source": [
    "# Display the header name or attribute name of the Table\n",
    "df.columns"
   ]
  },
  {
   "cell_type": "code",
   "execution_count": 89,
   "metadata": {},
   "outputs": [
    {
     "data": {
      "text/plain": [
       "0    1/1/2020\n",
       "1    1/2/2020\n",
       "2    1/3/2020\n",
       "3    1/4/2020\n",
       "4    1/5/2020\n",
       "5    1/6/2020\n",
       "Name: Date, dtype: object"
      ]
     },
     "execution_count": 89,
     "metadata": {},
     "output_type": "execute_result"
    }
   ],
   "source": [
    "# Display the content of the specify column of the table\n",
    "\n",
    "# NOTE: If the column header name contains the spaces then we should prefer the --> df['Date'] \n",
    "    #Example: df['First Name']\n",
    "\n",
    "df.Date # or we can use --> df['Date']"
   ]
  },
  {
   "cell_type": "code",
   "execution_count": 81,
   "metadata": {},
   "outputs": [
    {
     "data": {
      "text/plain": [
       "pandas.core.series.Series"
      ]
     },
     "execution_count": 81,
     "metadata": {},
     "output_type": "execute_result"
    }
   ],
   "source": [
    "# Type of the Columns: it is Series\n",
    "type(df.Date)"
   ]
  },
  {
   "cell_type": "code",
   "execution_count": 88,
   "metadata": {},
   "outputs": [
    {
     "data": {
      "text/html": [
       "<div>\n",
       "<style scoped>\n",
       "    .dataframe tbody tr th:only-of-type {\n",
       "        vertical-align: middle;\n",
       "    }\n",
       "\n",
       "    .dataframe tbody tr th {\n",
       "        vertical-align: top;\n",
       "    }\n",
       "\n",
       "    .dataframe thead th {\n",
       "        text-align: right;\n",
       "    }\n",
       "</style>\n",
       "<table border=\"1\" class=\"dataframe\">\n",
       "  <thead>\n",
       "    <tr style=\"text-align: right;\">\n",
       "      <th></th>\n",
       "      <th>Event</th>\n",
       "      <th>Date</th>\n",
       "    </tr>\n",
       "  </thead>\n",
       "  <tbody>\n",
       "    <tr>\n",
       "      <td>0</td>\n",
       "      <td>Sunny</td>\n",
       "      <td>1/1/2020</td>\n",
       "    </tr>\n",
       "    <tr>\n",
       "      <td>1</td>\n",
       "      <td>Rain</td>\n",
       "      <td>1/2/2020</td>\n",
       "    </tr>\n",
       "    <tr>\n",
       "      <td>2</td>\n",
       "      <td>Rain</td>\n",
       "      <td>1/3/2020</td>\n",
       "    </tr>\n",
       "    <tr>\n",
       "      <td>3</td>\n",
       "      <td>Sunny</td>\n",
       "      <td>1/4/2020</td>\n",
       "    </tr>\n",
       "    <tr>\n",
       "      <td>4</td>\n",
       "      <td>Snow</td>\n",
       "      <td>1/5/2020</td>\n",
       "    </tr>\n",
       "    <tr>\n",
       "      <td>5</td>\n",
       "      <td>Snow</td>\n",
       "      <td>1/6/2020</td>\n",
       "    </tr>\n",
       "  </tbody>\n",
       "</table>\n",
       "</div>"
      ],
      "text/plain": [
       "   Event      Date\n",
       "0  Sunny  1/1/2020\n",
       "1   Rain  1/2/2020\n",
       "2   Rain  1/3/2020\n",
       "3  Sunny  1/4/2020\n",
       "4   Snow  1/5/2020\n",
       "5   Snow  1/6/2020"
      ]
     },
     "execution_count": 88,
     "metadata": {},
     "output_type": "execute_result"
    }
   ],
   "source": [
    "# Display only the columns which is required\n",
    "df[['Event', 'Date']]"
   ]
  }
 ],
 "metadata": {
  "kernelspec": {
   "display_name": "Python 3",
   "language": "python",
   "name": "python3"
  },
  "language_info": {
   "codemirror_mode": {
    "name": "ipython",
    "version": 3
   },
   "file_extension": ".py",
   "mimetype": "text/x-python",
   "name": "python",
   "nbconvert_exporter": "python",
   "pygments_lexer": "ipython3",
   "version": "3.7.4"
  }
 },
 "nbformat": 4,
 "nbformat_minor": 2
}
