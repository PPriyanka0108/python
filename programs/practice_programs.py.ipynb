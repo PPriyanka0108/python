{
 "cells": [
  {
   "cell_type": "code",
   "execution_count": 62,
   "metadata": {},
   "outputs": [
    {
     "name": "stdout",
     "output_type": "stream",
     "text": [
      "Multiple of the 5**1: 5\n",
      "Multiple of the 5**2: 25\n",
      "Multiple of the 5**3: 125\n",
      "Sum of the multiples the numbers n+n*n+n*n*n : 155\n"
     ]
    }
   ],
   "source": [
    "# Write a Python program that accepts an integer (n) and computes the value of n+n*n+n*n*n\n",
    "n = 5\n",
    "sum = 0\n",
    "for i in range(1,4):\n",
    "    print('Multiple of the %s**%s: %s' %(n, i, n**i))\n",
    "    sum += (n**i)\n",
    "print('Sum of the multiples the numbers n+n*n+n*n*n :', sum)"
   ]
  },
  {
   "cell_type": "code",
   "execution_count": 9,
   "metadata": {},
   "outputs": [
    {
     "name": "stdout",
     "output_type": "stream",
     "text": [
      "Sum of the n+nn+nnn: 615\n"
     ]
    }
   ],
   "source": [
    "# Write a Python program that accepts an integer (n) and computes the value of n+nn+nnn\n",
    "n = 5\n",
    "n1 = int('%s%s' % (n, n))\n",
    "n2 = int('%s%s%s' % (n, n, n))\n",
    "print('Sum of the n+nn+nnn:', n+n1+n2)"
   ]
  },
  {
   "cell_type": "code",
   "execution_count": 39,
   "metadata": {},
   "outputs": [
    {
     "name": "stdout",
     "output_type": "stream",
     "text": [
      "Multiple of the given no -> 5 * 1 :5\n",
      "Multiple of the given no -> 5 * 2 :10\n",
      "Multiple of the given no -> 5 * 3 :15\n",
      "Multiple of the given no -> 5 * 4 :20\n",
      "Multiple of the given no -> 5 * 5 :25\n",
      "Multiple of the given no -> 5 * 6 :30\n",
      "Multiple of the given no -> 5 * 7 :35\n",
      "Multiple of the given no -> 5 * 8 :40\n",
      "Multiple of the given no -> 5 * 9 :45\n",
      "Multiple of the given no -> 5 * 10 :50\n"
     ]
    }
   ],
   "source": [
    "# multiple of the number\n",
    "\n",
    "n = 5\n",
    "for i in range(1, 11):\n",
    "    print('Multiple of the given no -> %s * %s :%s' %(n, i, n*i))"
   ]
  },
  {
   "cell_type": "code",
   "execution_count": 16,
   "metadata": {},
   "outputs": [
    {
     "name": "stdout",
     "output_type": "stream",
     "text": [
      "list of Words which contains \"is\" :  is\n",
      "list of Words which contains \"is\" :  is\n",
      "\n",
      "count of \"is\" : 2\n",
      "list of Words which contains \"is\" in the words:  is\n",
      "list of Words which contains \"is\" in the words:  list\n",
      "list of Words which contains \"is\" in the words:  list\n",
      "list of Words which contains \"is\" in the words:  discuss\n",
      "list of Words which contains \"is\" in the words:  this\n",
      "list of Words which contains \"is\" in the words:  list\n",
      "list of Words which contains \"is\" in the words:  list\n",
      "list of Words which contains \"is\" in the words:  is\n",
      "\n",
      "count of \"is\" in words : 8\n"
     ]
    }
   ],
   "source": [
    "# WAP to find the word in string and the no. of times count of the word\n",
    "s = \"\"\"One among the problem of interconversion of data types in python is conversion of list of tuples to dictionaries,\n",
    " in which the keys are 1st element of tuple, which are uniquely identified as keys in dictionary and \n",
    " it’s corresponding value as list of corresponding value of respective keys as tuple’s second element.\n",
    " Let’s discuss how to solve this particular problem.\n",
    " The defaultdict provides a default value dictionary container to assign corresponding value list to keys,\n",
    " so that we don’t need to initialize keys with empty list and loop is used to extract like values from tuple\"\"\"\n",
    "\n",
    "count = 0\n",
    "count1 = 0\n",
    "l = s.split()\n",
    "for i in l:\n",
    "    # it is to find if only 'is' is there \n",
    "    if 'is' == i:\n",
    "        count += 1\n",
    "        print('list of Words which contains \"is\" : ', i)\n",
    "print('\\ncount of \"is\" :', count)\n",
    "\n",
    "for i in l:    \n",
    "    # This is to find if the 'is' is there in words\n",
    "    if 'is' in i:\n",
    "        count1 += 1\n",
    "        print('list of Words which contains \"is\" in the words: ', i)  \n",
    "\n",
    "print('\\ncount of \"is\" in words :', count1)"
   ]
  },
  {
   "cell_type": "code",
   "execution_count": 23,
   "metadata": {},
   "outputs": [
    {
     "name": "stdout",
     "output_type": "stream",
     "text": [
      "Sorted list: [['a', 50], ['abc', 1], ['pavan', 80], ['priyanka', 20], ['q', 90]]\n",
      "Sort the number in the list: [1, 20, 50, 80, 90]\n",
      "Name of the second highest number: pavan\n",
      "\n",
      "Without using Sort function: [['abc', 1], ['priyanka', 20], ['a', 50], ['pavan', 80], ['q', 90]]\n",
      "Name of the second highest no: pavan\n"
     ]
    }
   ],
   "source": [
    "# WAP to find the name of the second highest number\n",
    "l = [['pavan', 80], ['priyanka', 20], ['abc', 1], ['q', 90], ['a', 50]]\n",
    "\n",
    "# by using sort function\n",
    "l2 = []\n",
    "l.sort()\n",
    "print('Sorted list:', l)\n",
    "for each in l:\n",
    "    l2.append(each[-1])\n",
    "l2.sort()\n",
    "print('Sort the number in the list:', l2)\n",
    "sec_high = l2[-2]\n",
    "\n",
    "for name, no in l:\n",
    "    if no == sec_high:\n",
    "        print('Name of the second highest number:', name)\n",
    "        \n",
    "# without using sort function and sort according to the number\n",
    "for each in range(len(l)-1):\n",
    "    for i in range(len(l)-1):\n",
    "        if l[i][1] > l[i+1][1]:\n",
    "            l[i], l[i+1] = l[i+1], l[i]\n",
    "print('\\nWithout using Sort function:', l)\n",
    "\n",
    "print('Name of the second highest no:', l[-2][0])"
   ]
  },
  {
   "cell_type": "code",
   "execution_count": 30,
   "metadata": {},
   "outputs": [
    {
     "name": "stdout",
     "output_type": "stream",
     "text": [
      "Pairing the elements of 2 list without using zip func: [(1, 4), (2, 5), (3, 6)]\n",
      "\n",
      "By using zip Function: [(1, 4), (2, 5), (3, 6)]\n"
     ]
    }
   ],
   "source": [
    "# WAP to pair the elements from 2 list without using zip function using list compresion\n",
    "x = [1, 2, 3]\n",
    "y = [4, 5, 6]\n",
    "\n",
    "z = [(x[each], y[each]) for each in range(len(x))]\n",
    "print('Pairing the elements of 2 list without using zip func:', z)\n",
    "\n",
    "# By using Zip Function\n",
    "y = list(zip(x,y))\n",
    "print('\\nBy using zip Function:', y)"
   ]
  },
  {
   "cell_type": "code",
   "execution_count": 34,
   "metadata": {},
   "outputs": [
    {
     "name": "stdout",
     "output_type": "stream",
     "text": [
      "The start of substring present in the string: CDC\n",
      "The start of substring present in the string: CDC\n",
      "The start of substring present in the string: C\n",
      "No. of times substring present in string: 2\n"
     ]
    }
   ],
   "source": [
    "# WAP to find the count of substring in the string\n",
    "string = 'ABCDCDC'\n",
    "sub_str = 'CDC'\n",
    "\n",
    "count = 0\n",
    "for i in range(0, len(string)):\n",
    "    if string[i] == sub_str[0]:\n",
    "        print('The start of substring present in the string:', string[i:i+len(sub_str)])\n",
    "        if string[i:i+len(sub_str)] == sub_str:\n",
    "            count = count+1\n",
    "print('No. of times substring present in string:', count)"
   ]
  },
  {
   "cell_type": "code",
   "execution_count": 51,
   "metadata": {},
   "outputs": [
    {
     "name": "stdout",
     "output_type": "stream",
     "text": [
      "\n",
      "Slice the number by 3 : [23, 78, 12]\n",
      "Sort the slice elements without using sort [12, 23, 78]\n",
      "\n",
      "Slice the number by 3 : [4, 18, 10]\n",
      "Sort the slice elements without using sort [4, 10, 18]\n",
      "\n",
      "Slice the number by 3 : [39, 84, 17]\n",
      "Sort the slice elements without using sort [17, 39, 84]\n",
      "\n",
      "Slice the number by 3 : [23, 10]\n",
      "Sort the slice elements without using sort [10, 23]\n",
      "\n",
      "New list with sorting of the elements: [[12, 23, 78], [4, 10, 18], [17, 39, 84], [10, 23]]\n"
     ]
    }
   ],
   "source": [
    "# list of 3 nos in sequence in the list and sort it\n",
    "l = [23, 78, 12, 4, 18, 10, 39, 84, 17, 23, 10]\n",
    "x = len(l)\n",
    "n = x//3\n",
    "l2 = []\n",
    "for each in range(0, x, n):\n",
    "    slice =l[each:each+n]\n",
    "    print('\\nSlice the number by 3 :', slice)\n",
    "\n",
    "    for j in range(len(slice)-1):\n",
    "        for k in range(len(slice)-1):\n",
    "            if slice[k] > slice[k+1]:\n",
    "                slice[k], slice[k+1] = slice[k+1], slice[k]\n",
    "    l2.append(slice)\n",
    "    print('Sort the slice elements without using sort',slice)\n",
    "print('\\nNew list with sorting of the elements:', l2)"
   ]
  },
  {
   "cell_type": "code",
   "execution_count": 66,
   "metadata": {},
   "outputs": [
    {
     "name": "stdout",
     "output_type": "stream",
     "text": [
      "Alphabetic order and add the element to the list and with count of that particular list: \n",
      " [['among', 1], ['conversion', 1], ['data', 'dictionaries', 2], ['interconversion', 'in', 'is', 3], ['list', 1], ['One', 'of', 'of', 'of', 'of', 5], ['problem', 'python', 2], ['the', 'types', 'tuples', 'to', 4]]\n"
     ]
    }
   ],
   "source": [
    "# increment the count of the words and respectively word in an alphabetic wise\n",
    "\n",
    "l = ['One', 'among', 'the', 'problem', 'of', 'interconversion', 'of', 'data', 'types', 'in', 'python', 'is', 'conversion', 'of', 'list', 'of', 'tuples', 'to', 'dictionaries']\n",
    "\n",
    "# new_list with all 0 till 25th index\n",
    "new_list = [0]*26\n",
    "\n",
    "l1 = []\n",
    "count = 0\n",
    "\n",
    "for each in l:\n",
    "    # Index of the alphabet\n",
    "    v_index = ord(each[0].upper()) - 65\n",
    "    \n",
    "    # if in new_list v_index is 0 then insert the list and add elements to the list\n",
    "    if new_list[v_index] == 0:\n",
    "        new_list[v_index] = []\n",
    "    new_list[v_index].append(each)\n",
    "\n",
    "i=0\n",
    "while 1:\n",
    "    if i > len(new_list)-1:\n",
    "        break\n",
    "\n",
    "    if new_list[i] != 0:\n",
    "        new_list[i].append(len(new_list[i]))\n",
    "        i += 1\n",
    "    else:\n",
    "        new_list.remove(new_list[i])\n",
    "\n",
    "print('Alphabetic order and add the element to the list and with count of that particular list: \\n', new_list)"
   ]
  },
  {
   "cell_type": "code",
   "execution_count": null,
   "metadata": {},
   "outputs": [],
   "source": []
  }
 ],
 "metadata": {
  "kernelspec": {
   "display_name": "Python 3",
   "language": "python",
   "name": "python3"
  },
  "language_info": {
   "codemirror_mode": {
    "name": "ipython",
    "version": 3
   },
   "file_extension": ".py",
   "mimetype": "text/x-python",
   "name": "python",
   "nbconvert_exporter": "python",
   "pygments_lexer": "ipython3",
   "version": "3.7.4"
  }
 },
 "nbformat": 4,
 "nbformat_minor": 2
}
