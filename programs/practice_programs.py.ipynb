{
 "cells": [
  {
   "cell_type": "code",
   "execution_count": 62,
   "metadata": {},
   "outputs": [
    {
     "name": "stdout",
     "output_type": "stream",
     "text": [
      "Multiple of the 5**1: 5\n",
      "Multiple of the 5**2: 25\n",
      "Multiple of the 5**3: 125\n",
      "Sum of the multiples the numbers n+n*n+n*n*n : 155\n"
     ]
    }
   ],
   "source": [
    "# Write a Python program that accepts an integer (n) and computes the value of n+n*n+n*n*n\n",
    "n = 5\n",
    "sum = 0\n",
    "for i in range(1,4):\n",
    "    print('Multiple of the %s**%s: %s' %(n, i, n**i))\n",
    "    sum += (n**i)\n",
    "print('Sum of the multiples the numbers n+n*n+n*n*n :', sum)"
   ]
  },
  {
   "cell_type": "code",
   "execution_count": 9,
   "metadata": {},
   "outputs": [
    {
     "name": "stdout",
     "output_type": "stream",
     "text": [
      "Sum of the n+nn+nnn: 615\n"
     ]
    }
   ],
   "source": [
    "# Write a Python program that accepts an integer (n) and computes the value of n+nn+nnn\n",
    "n = 5\n",
    "n1 = int('%s%s' % (n, n))\n",
    "n2 = int('%s%s%s' % (n, n, n))\n",
    "print('Sum of the n+nn+nnn:', n+n1+n2)"
   ]
  },
  {
   "cell_type": "code",
   "execution_count": 39,
   "metadata": {},
   "outputs": [
    {
     "name": "stdout",
     "output_type": "stream",
     "text": [
      "Multiple of the given no -> 5 * 1 :5\n",
      "Multiple of the given no -> 5 * 2 :10\n",
      "Multiple of the given no -> 5 * 3 :15\n",
      "Multiple of the given no -> 5 * 4 :20\n",
      "Multiple of the given no -> 5 * 5 :25\n",
      "Multiple of the given no -> 5 * 6 :30\n",
      "Multiple of the given no -> 5 * 7 :35\n",
      "Multiple of the given no -> 5 * 8 :40\n",
      "Multiple of the given no -> 5 * 9 :45\n",
      "Multiple of the given no -> 5 * 10 :50\n"
     ]
    }
   ],
   "source": [
    "# multiple of the number\n",
    "\n",
    "n = 5\n",
    "for i in range(1, 11):\n",
    "    print('Multiple of the given no -> %s * %s :%s' %(n, i, n*i))"
   ]
  },
  {
   "cell_type": "code",
   "execution_count": 16,
   "metadata": {},
   "outputs": [
    {
     "name": "stdout",
     "output_type": "stream",
     "text": [
      "list of Words which contains \"is\" :  is\n",
      "list of Words which contains \"is\" :  is\n",
      "\n",
      "count of \"is\" : 2\n",
      "list of Words which contains \"is\" in the words:  is\n",
      "list of Words which contains \"is\" in the words:  list\n",
      "list of Words which contains \"is\" in the words:  list\n",
      "list of Words which contains \"is\" in the words:  discuss\n",
      "list of Words which contains \"is\" in the words:  this\n",
      "list of Words which contains \"is\" in the words:  list\n",
      "list of Words which contains \"is\" in the words:  list\n",
      "list of Words which contains \"is\" in the words:  is\n",
      "\n",
      "count of \"is\" in words : 8\n"
     ]
    }
   ],
   "source": [
    "# WAP to find the word in string and the no. of times count of the word\n",
    "s = \"\"\"One among the problem of interconversion of data types in python is conversion of list of tuples to dictionaries,\n",
    " in which the keys are 1st element of tuple, which are uniquely identified as keys in dictionary and \n",
    " it’s corresponding value as list of corresponding value of respective keys as tuple’s second element.\n",
    " Let’s discuss how to solve this particular problem.\n",
    " The defaultdict provides a default value dictionary container to assign corresponding value list to keys,\n",
    " so that we don’t need to initialize keys with empty list and loop is used to extract like values from tuple\"\"\"\n",
    "\n",
    "count = 0\n",
    "count1 = 0\n",
    "l = s.split()\n",
    "for i in l:\n",
    "    # it is to find if only 'is' is there \n",
    "    if 'is' == i:\n",
    "        count += 1\n",
    "        print('list of Words which contains \"is\" : ', i)\n",
    "print('\\ncount of \"is\" :', count)\n",
    "\n",
    "for i in l:    \n",
    "    # This is to find if the 'is' is there in words\n",
    "    if 'is' in i:\n",
    "        count1 += 1\n",
    "        print('list of Words which contains \"is\" in the words: ', i)  \n",
    "\n",
    "print('\\ncount of \"is\" in words :', count1)"
   ]
  },
  {
   "cell_type": "code",
   "execution_count": 23,
   "metadata": {},
   "outputs": [
    {
     "name": "stdout",
     "output_type": "stream",
     "text": [
      "Sorted list: [['a', 50], ['abc', 1], ['pavan', 80], ['priyanka', 20], ['q', 90]]\n",
      "Sort the number in the list: [1, 20, 50, 80, 90]\n",
      "Name of the second highest number: pavan\n",
      "\n",
      "Without using Sort function: [['abc', 1], ['priyanka', 20], ['a', 50], ['pavan', 80], ['q', 90]]\n",
      "Name of the second highest no: pavan\n"
     ]
    }
   ],
   "source": [
    "# WAP to find the name of the second highest number\n",
    "l = [['pavan', 80], ['priyanka', 20], ['abc', 1], ['q', 90], ['a', 50]]\n",
    "\n",
    "# by using sort function\n",
    "l2 = []\n",
    "l.sort()\n",
    "print('Sorted list:', l)\n",
    "for each in l:\n",
    "    l2.append(each[-1])\n",
    "l2.sort()\n",
    "print('Sort the number in the list:', l2)\n",
    "sec_high = l2[-2]\n",
    "\n",
    "for name, no in l:\n",
    "    if no == sec_high:\n",
    "        print('Name of the second highest number:', name)\n",
    "        \n",
    "# without using sort function and sort according to the number\n",
    "for each in range(len(l)-1):\n",
    "    for i in range(len(l)-1):\n",
    "        if l[i][1] > l[i+1][1]:\n",
    "            l[i], l[i+1] = l[i+1], l[i]\n",
    "print('\\nWithout using Sort function:', l)\n",
    "\n",
    "print('Name of the second highest no:', l[-2][0])"
   ]
  },
  {
   "cell_type": "code",
   "execution_count": 30,
   "metadata": {},
   "outputs": [
    {
     "name": "stdout",
     "output_type": "stream",
     "text": [
      "Pairing the elements of 2 list without using zip func: [(1, 4), (2, 5), (3, 6)]\n",
      "\n",
      "By using zip Function: [(1, 4), (2, 5), (3, 6)]\n"
     ]
    }
   ],
   "source": [
    "# WAP to pair the elements from 2 list without using zip function using list compresion\n",
    "x = [1, 2, 3]\n",
    "y = [4, 5, 6]\n",
    "\n",
    "z = [(x[each], y[each]) for each in range(len(x))]\n",
    "print('Pairing the elements of 2 list without using zip func:', z)\n",
    "\n",
    "# By using Zip Function\n",
    "y = list(zip(x,y))\n",
    "print('\\nBy using zip Function:', y)"
   ]
  },
  {
   "cell_type": "code",
   "execution_count": 34,
   "metadata": {},
   "outputs": [
    {
     "name": "stdout",
     "output_type": "stream",
     "text": [
      "The start of substring present in the string: CDC\n",
      "The start of substring present in the string: CDC\n",
      "The start of substring present in the string: C\n",
      "No. of times substring present in string: 2\n"
     ]
    }
   ],
   "source": [
    "# WAP to find the count of substring in the string\n",
    "string = 'ABCDCDC'\n",
    "sub_str = 'CDC'\n",
    "\n",
    "count = 0\n",
    "for i in range(0, len(string)):\n",
    "    if string[i] == sub_str[0]:\n",
    "        print('The start of substring present in the string:', string[i:i+len(sub_str)])\n",
    "        if string[i:i+len(sub_str)] == sub_str:\n",
    "            count = count+1\n",
    "print('No. of times substring present in string:', count)"
   ]
  },
  {
   "cell_type": "code",
   "execution_count": 51,
   "metadata": {},
   "outputs": [
    {
     "name": "stdout",
     "output_type": "stream",
     "text": [
      "\n",
      "Slice the number by 3 : [23, 78, 12]\n",
      "Sort the slice elements without using sort [12, 23, 78]\n",
      "\n",
      "Slice the number by 3 : [4, 18, 10]\n",
      "Sort the slice elements without using sort [4, 10, 18]\n",
      "\n",
      "Slice the number by 3 : [39, 84, 17]\n",
      "Sort the slice elements without using sort [17, 39, 84]\n",
      "\n",
      "Slice the number by 3 : [23, 10]\n",
      "Sort the slice elements without using sort [10, 23]\n",
      "\n",
      "New list with sorting of the elements: [[12, 23, 78], [4, 10, 18], [17, 39, 84], [10, 23]]\n"
     ]
    }
   ],
   "source": [
    "# list of 3 nos in sequence in the list and sort it\n",
    "l = [23, 78, 12, 4, 18, 10, 39, 84, 17, 23, 10]\n",
    "x = len(l)\n",
    "n = x//3\n",
    "l2 = []\n",
    "for each in range(0, x, n):\n",
    "    slice =l[each:each+n]\n",
    "    print('\\nSlice the number by 3 :', slice)\n",
    "\n",
    "    for j in range(len(slice)-1):\n",
    "        for k in range(len(slice)-1):\n",
    "            if slice[k] > slice[k+1]:\n",
    "                slice[k], slice[k+1] = slice[k+1], slice[k]\n",
    "    l2.append(slice)\n",
    "    print('Sort the slice elements without using sort',slice)\n",
    "print('\\nNew list with sorting of the elements:', l2)"
   ]
  },
  {
   "cell_type": "code",
   "execution_count": 66,
   "metadata": {},
   "outputs": [
    {
     "name": "stdout",
     "output_type": "stream",
     "text": [
      "Alphabetic order and add the element to the list and with count of that particular list: \n",
      " [['among', 1], ['conversion', 1], ['data', 'dictionaries', 2], ['interconversion', 'in', 'is', 3], ['list', 1], ['One', 'of', 'of', 'of', 'of', 5], ['problem', 'python', 2], ['the', 'types', 'tuples', 'to', 4]]\n"
     ]
    }
   ],
   "source": [
    "# increment the count of the words and respectively word in an alphabetic wise\n",
    "\n",
    "l = ['One', 'among', 'the', 'problem', 'of', 'interconversion', 'of', 'data', 'types', 'in', 'python', 'is', 'conversion', 'of', 'list', 'of', 'tuples', 'to', 'dictionaries']\n",
    "\n",
    "# new_list with all 0 till 25th index\n",
    "new_list = [0]*26\n",
    "\n",
    "l1 = []\n",
    "count = 0\n",
    "\n",
    "for each in l:\n",
    "    # Index of the alphabet\n",
    "    v_index = ord(each[0].upper()) - 65\n",
    "    \n",
    "    # if in new_list v_index is 0 then insert the list and add elements to the list\n",
    "    if new_list[v_index] == 0:\n",
    "        new_list[v_index] = []\n",
    "    new_list[v_index].append(each)\n",
    "\n",
    "i=0\n",
    "while 1:\n",
    "    if i > len(new_list)-1:\n",
    "        break\n",
    "\n",
    "    if new_list[i] != 0:\n",
    "        new_list[i].append(len(new_list[i]))\n",
    "        i += 1\n",
    "    else:\n",
    "        new_list.remove(new_list[i])\n",
    "\n",
    "print('Alphabetic order and add the element to the list and with count of that particular list: \\n', new_list)"
   ]
  },
  {
   "cell_type": "code",
   "execution_count": 3,
   "metadata": {},
   "outputs": [
    {
     "name": "stdout",
     "output_type": "stream",
     "text": [
      "Enter the first no :5\n",
      "Enter the sec no :5\n",
      "Enter the third no :5\n",
      "Thrice the sum of the value: 45\n"
     ]
    }
   ],
   "source": [
    "# Write a Python program to calculate the sum of three given numbers, if the values are equal then return thrice of their sum.\n",
    "\n",
    "x1 = int(input('Enter the first no :'))\n",
    "x2 = int(input('Enter the sec no :'))\n",
    "x3 = int(input('Enter the third no :'))\n",
    "\n",
    "sum = 0\n",
    "if (x1 == x2) and (x2 == x1) and (x2 == x3):\n",
    "    sum = (x1+x2+x3)*3\n",
    "    print('Thrice the sum of the value:',sum)\n",
    "else:\n",
    "    print('all 3 nos are different')"
   ]
  },
  {
   "cell_type": "code",
   "execution_count": 4,
   "metadata": {},
   "outputs": [
    {
     "name": "stdout",
     "output_type": "stream",
     "text": [
      "Square and sort the elements in the list: [1, 4, 9, 25, 81, 100]\n"
     ]
    }
   ],
   "source": [
    "# WAP to sort the elements and square the elements\n",
    "l=[-1,-9,-5,3,10,2]\n",
    "l1 = []\n",
    "for each in range(len(l)):\n",
    "    l[each] = abs(l[each])**2\n",
    "\n",
    "for each in range(len(l)):\n",
    "    for j in range(len(l)-1):\n",
    "        if l[j] > l[j+1]:\n",
    "            l[j], l[j+1] = l[j+1], l[j]\n",
    "\n",
    "print('Square and sort the elements in the list:',l)"
   ]
  },
  {
   "cell_type": "code",
   "execution_count": 7,
   "metadata": {},
   "outputs": [
    {
     "name": "stdout",
     "output_type": "stream",
     "text": [
      "It will divide the number by half: 12\n",
      "It will double the given number: 50\n",
      "Converting the given no to binary: 1010\n"
     ]
    }
   ],
   "source": [
    "# Convert the number to binary number without using inbuilt function\n",
    "n = 10\n",
    "x = []\n",
    "print('It will divide the number by half:',25 >> 1)\n",
    "print('It will double the given number:', 25 << 1)\n",
    "\n",
    "while n > 0:\n",
    "    x.append(str(0 if n % 2 == 0 else 1))\n",
    "    # n >>=1\n",
    "    n = n//2\n",
    "print('Converting the given no to binary:',''.join(x[::-1]))"
   ]
  },
  {
   "cell_type": "code",
   "execution_count": 10,
   "metadata": {},
   "outputs": [
    {
     "name": "stdout",
     "output_type": "stream",
     "text": [
      "Reverse the list: [70, 40, 10, 20]\n",
      "Reverse the list by mid value: [20, 50, 90, 10, 30]\n"
     ]
    }
   ],
   "source": [
    "# Reverse the list without using slicing operation and reverse function\n",
    "\n",
    "l = [20,10,40,70]\n",
    "\n",
    "# 1st case by using another list\n",
    "l1 = []\n",
    "while len(l) > 0:\n",
    "    l1.append(l.pop())\n",
    "print('Reverse the list:',l1)\n",
    "\n",
    "# 2nd case without using extra list\n",
    "l2 = [30,10,90,50,20]\n",
    "mid = len(l2)//2\n",
    "\n",
    "for i in range(mid):\n",
    "    l2[len(l2)-i-1], l2[i] = l2[i], l2[len(l2)-i-1]\n",
    "print('Reverse the list by mid value:',l2)"
   ]
  },
  {
   "cell_type": "code",
   "execution_count": 12,
   "metadata": {},
   "outputs": [
    {
     "name": "stdout",
     "output_type": "stream",
     "text": [
      "Reverse the string: srenwo eludom htiw dennalp gnitset tnemyolped\n"
     ]
    }
   ],
   "source": [
    "# reverse the string without using slicling operation and reverse function\n",
    "s = 'deployment testing planned with module owners'\n",
    "str = \"\"\n",
    "for i in s:\n",
    "    str = i+str\n",
    "print('Reverse the string:', str)"
   ]
  },
  {
   "cell_type": "code",
   "execution_count": 17,
   "metadata": {},
   "outputs": [
    {
     "name": "stdout",
     "output_type": "stream",
     "text": [
      "Elements with duplicates 18\n",
      "Elements with duplicates 30\n",
      "\n",
      "CASE1-> Duplicates elements: [12, 18, 30]\n",
      "\n",
      "CASE2 -> Duplicates elements by using set function: [18, 30]\n",
      "\n",
      "CASE3 -> Duplicte elements: 18\n",
      "\n",
      "CASE3 -> Duplicte elements: 30\n",
      "Duplicate elements in mylist: 30\n",
      "Duplicate elements in mylist: 102\n",
      "Duplicate elements in mylist: 19\n",
      "\n",
      "CASE4 -> Duplicates elements: [60, 19, 102, 20, 30]\n"
     ]
    }
   ],
   "source": [
    "# To find the duplicate elements\n",
    "my_list = [12,18,30],[18,30]\n",
    "\n",
    "# case 1\n",
    "l1 = []\n",
    "for each in my_list:\n",
    "    for i in each:\n",
    "        if i not in l1:\n",
    "            l1.append(i)\n",
    "        else:\n",
    "            print('Elements with duplicates', i)\n",
    "print('\\nCASE1-> Duplicates elements:',l1)\n",
    "\n",
    "# case2\n",
    "mylist1 = [12,18,30]\n",
    "mylist2 = [18,30]\n",
    "print('\\nCASE2 -> Duplicates elements by using set function:',list(set(mylist1).intersection(set(mylist2))))\n",
    "\n",
    "# case 3\n",
    "for i in mylist1:\n",
    "    if i in mylist2:\n",
    "        print('\\nCASE3 -> Duplicte elements:', i)\n",
    "\n",
    "\n",
    "# case4: without using inbuilt function\n",
    "mylist = [30, 102, 19, 60, 19, 102, 20, 30]\n",
    "j=0\n",
    "while j < len(mylist):\n",
    "    if mylist[j] in mylist[j+1:]:\n",
    "        print('Duplicate elements in mylist:', mylist[j])\n",
    "        \n",
    "        # To remove the particular element below is the command\n",
    "        mylist = mylist[:j]+mylist[j+1:]\n",
    "    else:\n",
    "        j+=1\n",
    "\n",
    "print('\\nCASE4 -> Duplicates elements:', mylist)\n"
   ]
  },
  {
   "cell_type": "code",
   "execution_count": 28,
   "metadata": {},
   "outputs": [
    {
     "name": "stdout",
     "output_type": "stream",
     "text": [
      "\n",
      "To convert to the dictionary and respective count:\n",
      " {'In': 1, 'each': 1, 'iteration': 1, 'we': 2, 'check': 1, 'if': 1, 'both': 1, 'the': 9, 'numbers': 2, 'perfectly': 1, 'divide': 1, 'our': 1, 'number.': 1, 'If': 1, 'so': 1, 'store': 1, 'number': 2, 'as': 1, 'L.C.M.': 1, 'and': 3, 'break': 1, 'from': 1, 'loop.': 1, 'Otherwise': 1, 'is': 3, 'incremented': 1, 'by': 2, '1': 1, 'loop': 1, 'continues.': 1, '': 1, 'The': 1, 'above': 1, 'program': 1, 'slower': 1, 'to': 2, 'run.': 1, 'We': 1, 'can': 1, 'make': 1, 'it': 1, 'more': 1, 'efficient': 1, 'using': 1, 'fact': 1, 'that': 1, 'product': 2, 'of': 3, 'two': 2, 'equal': 1, 'least': 1, 'common': 2, 'multiple': 1, 'greatest': 1, 'divisor': 1, 'those': 1}\n",
      "\n",
      "key \"the\" and value \"9\"\n"
     ]
    }
   ],
   "source": [
    "# read a file and count the no. of elements\n",
    "d1 = {}\n",
    "tmp = ''\n",
    "list1 = []\n",
    "with open('read.txt','r') as f:\n",
    "    content = f.readlines()\n",
    "\n",
    "    for each in content:\n",
    "        # without using split function\n",
    "        for i in each:\n",
    "            if i == ' ' or i == '\\n':\n",
    "                list1.append(tmp)\n",
    "                tmp = ''\n",
    "            else:\n",
    "                tmp += i\n",
    "                \n",
    "# To convert to the dictionary and respective count\n",
    "for j in list1:\n",
    "    if j in d1.keys():\n",
    "        d1[j] += 1\n",
    "    else:\n",
    "        d1[j] = 1\n",
    "print('\\nTo convert to the dictionary and respective count:\\n',d1)\n",
    "\n",
    "max = 0\n",
    "for k in d1:\n",
    "\n",
    "    if max is 0 or max < d1[k]:\n",
    "        max = d1[k]\n",
    "        key = k\n",
    "\n",
    "print('\\nkey \"%s\" and value \"%s\"' % (key, max))\n"
   ]
  },
  {
   "cell_type": "code",
   "execution_count": null,
   "metadata": {},
   "outputs": [],
   "source": []
  }
 ],
 "metadata": {
  "kernelspec": {
   "display_name": "Python 3",
   "language": "python",
   "name": "python3"
  },
  "language_info": {
   "codemirror_mode": {
    "name": "ipython",
    "version": 3
   },
   "file_extension": ".py",
   "mimetype": "text/x-python",
   "name": "python",
   "nbconvert_exporter": "python",
   "pygments_lexer": "ipython3",
   "version": "3.7.4"
  }
 },
 "nbformat": 4,
 "nbformat_minor": 2
}
