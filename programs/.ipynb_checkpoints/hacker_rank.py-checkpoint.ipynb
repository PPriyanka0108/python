{
 "cells": [
  {
   "cell_type": "code",
   "execution_count": 1,
   "metadata": {},
   "outputs": [
    {
     "name": "stdout",
     "output_type": "stream",
     "text": [
      "Alison Heck\n"
     ]
    }
   ],
   "source": [
    "# Question: You are asked to ensure that the first and last names of people begin with a capital letter in their passports.\n",
    "# For example, alison heck should be capitalised correctly as Alison Heck.\n",
    "# Given a full name, your task is to capitalize the name appropriately.\n",
    "# below Solution:\n",
    "s = 'alison heck'\n",
    "x = ' '.join([i.capitalize() for i in s.split(' ')])\n",
    "\n",
    "print(x)"
   ]
  },
  {
   "cell_type": "code",
   "execution_count": 3,
   "metadata": {},
   "outputs": [
    {
     "name": "stdout",
     "output_type": "stream",
     "text": [
      "Enter the string:ABCDEFGHIJKLIMNOQRSTUVWXYZ\n",
      "Split the straing by:4\n",
      "ABCD\n",
      "EFGH\n",
      "IJKL\n",
      "IMNO\n",
      "QRST\n",
      "UVWX\n",
      "YZ\n"
     ]
    }
   ],
   "source": [
    "# Question: You are given a string S and width w.\n",
    "# Your task is to wrap the string into a paragraph of width w.\n",
    "#\n",
    "# Sample Input 0\n",
    "#\n",
    "# ABCDEFGHIJKLIMNOQRSTUVWXYZ\n",
    "# 4\n",
    "# Sample Output 0\n",
    "#\n",
    "# ABCD\n",
    "# EFGH\n",
    "# IJKL\n",
    "# IMNO\n",
    "# QRST\n",
    "# UVWX\n",
    "# YZ\n",
    "\n",
    "# below Solution:\n",
    "def wrap(string, max_width):\n",
    "    l = []\n",
    "    for i in range(0, len(string), max_width):\n",
    "        x = string[i:i+max_width]\n",
    "        l.append(x)\n",
    "    s = '\\n'.join(l)\n",
    "    return s\n",
    "\n",
    "if __name__ == '__main__':\n",
    "    string, max_width = input('Enter the string:'), int(input('Split the straing by:'))\n",
    "    result = wrap(string, max_width)\n",
    "    print(result)\n"
   ]
  },
  {
   "cell_type": "code",
   "execution_count": 9,
   "metadata": {},
   "outputs": [
    {
     "name": "stdout",
     "output_type": "stream",
     "text": [
      "True\n",
      "True\n",
      "True\n",
      "True\n",
      "True\n"
     ]
    }
   ],
   "source": [
    "# Question: Python has built-in string validation methods for basic data.\n",
    "# It can check if a string is composed of alphabetical characters, alphanumeric characters, digits, etc.\n",
    "# below Solution:\n",
    "s = 'pA2'\n",
    "print(any(c.isalnum() for c in s))\n",
    "print(any(c.isalpha() for c in s))\n",
    "print(any(c.islower() for c in s))\n",
    "print(any(c.isupper() for c in s))\n",
    "print(any(c.isdigit() for c in s))"
   ]
  },
  {
   "cell_type": "code",
   "execution_count": 19,
   "metadata": {},
   "outputs": [
    {
     "name": "stdout",
     "output_type": "stream",
     "text": [
      "String: abracadabra\n",
      "Index and character: 5 k\n",
      "New string:  abrackdabra\n"
     ]
    }
   ],
   "source": [
    "# Question: We have seen that lists are mutable (they can be changed), and tuples are immutable (they cannot be changed).\n",
    "# Let's try to understand this with an example.\n",
    "# You are given an immutable string, and you want to make changes to it.\n",
    "# One solution is to convert the string to a list and then change the value.\n",
    "# Example\n",
    "#\n",
    "# >>> string = \"abracadabra\"\n",
    "# >>> l = list(string)\n",
    "# >>> l[5] = 'k'\n",
    "# >>> string = ''.join(l)\n",
    "# >>> print string\n",
    "# abrackdabra\n",
    "# Another approach is to slice the string and join it back.\n",
    "# Example\n",
    "#\n",
    "# >>> string = string[:5] + \"k\" + string[6:]\n",
    "# >>> print string\n",
    "# abrackdabra\n",
    "\n",
    "# Below Solution\n",
    "def mutate_string(string, position, character):\n",
    "    s = string[0:position] + character + string[position+1:]\n",
    "    return s\n",
    "\n",
    "\n",
    "if __name__ == '__main__':\n",
    "    s = input('String: ')\n",
    "    i, c = input('Index and character: ').split()\n",
    "    s_new = mutate_string(s, int(i), c)\n",
    "    print('New string: ', s_new)"
   ]
  },
  {
   "cell_type": "code",
   "execution_count": 20,
   "metadata": {},
   "outputs": [
    {
     "name": "stdout",
     "output_type": "stream",
     "text": [
      "String:ABCDCDCDC\n",
      "Sub:CDC\n",
      "Count of the substring in String: 3\n"
     ]
    }
   ],
   "source": [
    "# Count of the substring in the main string\n",
    "def count_substring(string, sub_string):\n",
    "    count = 0\n",
    "\n",
    "    for i in range(len(string)):\n",
    "\n",
    "        if string[i] == sub_string[0]:\n",
    "\n",
    "            if (string[i:len(sub_string)+i]) == sub_string:\n",
    "                count += 1\n",
    "    return count\n",
    "\n",
    "\n",
    "if __name__ == '__main__':\n",
    "    string = input('String:').strip()\n",
    "    sub_string = input('Sub:').strip()\n",
    "\n",
    "    count = count_substring(string, sub_string)\n",
    "    print('Count of the substring in String:', count)"
   ]
  },
  {
   "cell_type": "code",
   "execution_count": 24,
   "metadata": {},
   "outputs": [
    {
     "name": "stdout",
     "output_type": "stream",
     "text": [
      "First no: 1\n",
      "Second no: 1\n",
      "Third no: 1\n",
      "Enter the number: 2\n",
      "Normal function:  [[0, 0, 0], [0, 0, 1], [0, 1, 0], [1, 0, 0], [1, 1, 1]]\n",
      "List comprehension:  [[0, 0, 0], [0, 0, 1], [0, 1, 0], [1, 0, 0], [1, 1, 1]]\n"
     ]
    }
   ],
   "source": [
    "# Question: Let's learn about list comprehensions! You are given three integers X,Y and Z representing the dimensions\n",
    "# of a cuboid along with an integer N. You have to print a list of all possible coordinates given by (i,j,k)\n",
    "# on a 3D grid where the sum of i+j+k is not equal to N. Here, 0<= i<= X, 0 <= j <= Y, 0<= k <= Z\n",
    "# Below Solution:\n",
    "x = int(input('First no: '))\n",
    "y = int(input('Second no: '))\n",
    "z = int(input('Third no: '))\n",
    "n = int(input('Enter the number: '))\n",
    "l= []\n",
    "for i in range(x+1):\n",
    "    for j in range(y+1):\n",
    "        for k in range(z+1):\n",
    "            if (i+j+k) != n:\n",
    "                l.append([i,j,k])\n",
    "print('Normal function: ',l)\n",
    "# # By using list Comprehension\n",
    "print('List comprehension: ',[[i,j,k] for i in range(x+1) for j in range(y+1) for k in range(z+1) if (i+j+k) != n])"
   ]
  },
  {
   "cell_type": "code",
   "execution_count": 28,
   "metadata": {},
   "outputs": [
    {
     "name": "stdout",
     "output_type": "stream",
     "text": [
      "3\n",
      "45 12\n",
      "Tuple:  (45, 12)\n",
      "hashing:  8363323723763310217\n"
     ]
    }
   ],
   "source": [
    "# Question: Given an integer, , and  space-separated integers as input, create a tuple, , of those  integers.\n",
    "# Then compute and print the result of .\n",
    "#\n",
    "# Note: hash() is one of the functions in the __builtins__ module, so it need not be imported.\n",
    "# Below Soltuion:\n",
    "if __name__ == '__main__':\n",
    "    n = int(input())\n",
    "    int_tuple = tuple(map(int, input().split()))\n",
    "    print('Tuple: ',int_tuple)\n",
    "    print('hashing: ', hash(integer_list))"
   ]
  },
  {
   "cell_type": "code",
   "execution_count": null,
   "metadata": {},
   "outputs": [
    {
     "name": "stdout",
     "output_type": "stream",
     "text": [
      "3\n"
     ]
    }
   ],
   "source": [
    "# Question: You have a record of  students. Each record contains the student's name, and their percent marks in Maths,\n",
    "# Physics and Chemistry. The marks can be floating values. The user enters some integer  followed by the names and marks\n",
    "# for  students. You are required to save the record in a dictionary data type. The user then enters a student's name.\n",
    "# Output the average percentage marks obtained by that student, correct to two decimal places.\n",
    "# below Solution:\n",
    "if __name__ == '__main__':\n",
    "    n = int(input())\n",
    "    student_marks = {}\n",
    "    for _ in range(n):\n",
    "        name, *line = input().split()\n",
    "        scores = list(map(float, line))\n",
    "        student_marks[name] = scores\n",
    "    query_name = input()\n",
    "    print(student_marks)\n",
    "    print(query_name)\n",
    "    print(student_marks.keys())\n",
    "    sum = 0\n",
    "    if query_name in student_marks.keys():\n",
    "        length = len(student_marks[name])\n",
    "        print(length)\n",
    "        print('Name:', query_name)\n",
    "        for j in student_marks[query_name]:\n",
    "           sum +=j\n",
    "        print(sum)\n",
    "        avg = sum/length\n",
    "    print('%.2f' % avg)"
   ]
  },
  {
   "cell_type": "code",
   "execution_count": null,
   "metadata": {},
   "outputs": [],
   "source": [
    "# Question: A prime is a natural number greater than  that has no positive divisors other than  and itself.\n",
    "# Given  integers, determine the primality of each integer and print whether it is Prime or Not prime on a new line.\n",
    "#\n",
    "# Note: If possible, try to come up with an  primality algorithm, or see what sort of optimizations by usning O(sqrt(n))\n",
    "# you can come up with for an  algorithm. Be sure to check out the Editorial after submitting your code!\n",
    "# Below Solution:\n",
    "#!/bin/python3\n",
    "\n",
    "import math\n",
    "import os\n",
    "# Complete the primality function below.\n",
    "def primality(n):\n",
    "    if n < 2:\n",
    "        return 'Not prime'\n",
    "    elif n <= 3:\n",
    "        return 'Prime'\n",
    "    elif n % 2 == 0 or n % 3 == 0:\n",
    "        return 'Not prime'\n",
    "    else:\n",
    "        for i in range(3, int(math.sqrt(n))+1):\n",
    "            if n % i == 0:\n",
    "                return 'Not prime'\n",
    "\n",
    "        return 'Prime'\n",
    "\n",
    "\n",
    "if __name__ == '__main__':\n",
    "    fptr = open(os.environ['OUTPUT_PATH'], 'w')\n",
    "\n",
    "    p = int(input())\n",
    "\n",
    "    for p_itr in range(p):\n",
    "        n = int(input())\n",
    "\n",
    "        result = primality(n)\n",
    "\n",
    "        fptr.write(result + '\\n')\n",
    "\n",
    "    fptr.close()"
   ]
  },
  {
   "cell_type": "code",
   "execution_count": null,
   "metadata": {},
   "outputs": [],
   "source": [
    "# Question: Given the names and grades for each student in a Physics class of  students, store them in a nested list and\n",
    "# print the name(s) of any student(s) having the second lowest grade.\n",
    "#\n",
    "# Note: If there are multiple students with the same grade, order their names alphabetically and print each name on a new line.\n",
    "# l = [['Harry', 37.21], ['Berry', 37.21], ['Tina', 37.2], ['Sita', 37.2], ['Akriti', 41], ['Harsh', 39]]\n",
    "# Below solution:\n",
    "\n",
    "if __name__ == '__main__':\n",
    "    l = []\n",
    "    for _ in range(int(input())):\n",
    "        name = input('Enter name:')\n",
    "        score = float(input('Score:'))\n",
    "        l.append([name, score])\n",
    "    x = []\n",
    "    for i in range(len(l)):\n",
    "        if l[i][1] not in x:\n",
    "            x.append(l[i][1])\n",
    "    for i in range(len(l)-1):\n",
    "        print(l[i])\n",
    "        for j in range(len(l)-1-i):\n",
    "            if l[j][1] > l[j+1][1]:\n",
    "                l[j], l[j+1] = l[j+1], l[j]\n",
    "    x.sort()\n",
    "\n",
    "  names = [name for name, no in l if no == x[1]]\n",
    "  for name in names:\n",
    "      print(name)\n"
   ]
  },
  {
   "cell_type": "code",
   "execution_count": null,
   "metadata": {},
   "outputs": [],
   "source": []
  },
  {
   "cell_type": "code",
   "execution_count": null,
   "metadata": {},
   "outputs": [],
   "source": []
  },
  {
   "cell_type": "code",
   "execution_count": null,
   "metadata": {},
   "outputs": [],
   "source": []
  }
 ],
 "metadata": {
  "kernelspec": {
   "display_name": "Python 3",
   "language": "python",
   "name": "python3"
  },
  "language_info": {
   "codemirror_mode": {
    "name": "ipython",
    "version": 3
   },
   "file_extension": ".py",
   "mimetype": "text/x-python",
   "name": "python",
   "nbconvert_exporter": "python",
   "pygments_lexer": "ipython3",
   "version": "3.7.4"
  }
 },
 "nbformat": 4,
 "nbformat_minor": 2
}
